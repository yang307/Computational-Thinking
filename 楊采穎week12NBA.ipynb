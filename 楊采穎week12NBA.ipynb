{
  "nbformat": 4,
  "nbformat_minor": 0,
  "metadata": {
    "colab": {
      "name": "Untitled9.ipynb",
      "provenance": [],
      "authorship_tag": "ABX9TyOMjrWPW+6SB6JSdP6ELGIP",
      "include_colab_link": true
    },
    "kernelspec": {
      "name": "python3",
      "display_name": "Python 3"
    }
  },
  "cells": [
    {
      "cell_type": "markdown",
      "metadata": {
        "id": "view-in-github",
        "colab_type": "text"
      },
      "source": [
        "<a href=\"https://colab.research.google.com/github/yang307/Computational-Thinking/blob/master/%E6%A5%8A%E9%87%87%E7%A9%8Eweek12NBA.ipynb\" target=\"_parent\"><img src=\"https://colab.research.google.com/assets/colab-badge.svg\" alt=\"Open In Colab\"/></a>"
      ]
    },
    {
      "cell_type": "code",
      "metadata": {
        "id": "MTuopn1ug02x"
      },
      "source": [
        "# NBA冠軍球隊的六筆資訊\n",
        "season = \"1995-1996\"\n",
        "team = \"Chicago Bulls\"\n",
        "coach = \"Phil Jackson\"\n",
        "records = [72,10]\n",
        "starting = [\"Ron Harper\",\"Michael Jordan\",\"Scottie Pippen\",\"Dennis Rodman\",\"Luc Longley\"]\n",
        "champion = True"
      ],
      "execution_count": 2,
      "outputs": []
    },
    {
      "cell_type": "code",
      "metadata": {
        "id": "PPjE7gG7jTiw"
      },
      "source": [
        "# 變數best_NBA 賦值串列\n",
        "best_NBA = list((season, team, coach, records, starting, champion))"
      ],
      "execution_count": 4,
      "outputs": []
    },
    {
      "cell_type": "code",
      "metadata": {
        "colab": {
          "base_uri": "https://localhost:8080/"
        },
        "id": "-FYUhPbijutg",
        "outputId": "2f5c9849-6f0e-4aa1-913b-bdeb1fc4fbb0"
      },
      "source": [
        "# TypeError: list expected at most 1 arguments, got 6 (要有兩個小括號)\n",
        "print(best_NBA)\n",
        "[\"1995-1996\", \"Chicago Bulls\", \"Phil Jackson\", [72,10], [\"Ron Harper\", \"Michael Jordan\", \"Scottie Pippen\", \"Dennis Rodman\",\n",
        "\"Luc Longley\"],True]\n",
        "print(type(best_NBA))"
      ],
      "execution_count": 9,
      "outputs": [
        {
          "output_type": "stream",
          "text": [
            "['1995-1996', 'Chicago Bulls', 'Phil Jackson', [72, 10], ['Ron Harper', 'Michael Jordan', 'Scottie Pippen', 'Dennis Rodman', 'Luc Longley'], True]\n",
            "<class 'list'>\n"
          ],
          "name": "stdout"
        }
      ]
    },
    {
      "cell_type": "code",
      "metadata": {
        "colab": {
          "base_uri": "https://localhost:8080/"
        },
        "id": "QCbyA10clPHj",
        "outputId": "bb7404ca-0b62-426e-fe1a-614e8c910e9a"
      },
      "source": [
        "# indexing 索引\n",
        "print(best_NBA[-2])\n",
        "[\"Ron Harper\", \"Michael Jordan\", \"Scottie Pippen\", \"Dennis Rodman\", \"Luc Longley\"]"
      ],
      "execution_count": 10,
      "outputs": [
        {
          "output_type": "stream",
          "text": [
            "['Ron Harper', 'Michael Jordan', 'Scottie Pippen', 'Dennis Rodman', 'Luc Longley']\n"
          ],
          "name": "stdout"
        },
        {
          "output_type": "execute_result",
          "data": {
            "text/plain": [
              "['Ron Harper',\n",
              " 'Michael Jordan',\n",
              " 'Scottie Pippen',\n",
              " 'Dennis Rodman',\n",
              " 'Luc Longley']"
            ]
          },
          "metadata": {
            "tags": []
          },
          "execution_count": 10
        }
      ]
    },
    {
      "cell_type": "code",
      "metadata": {
        "colab": {
          "base_uri": "https://localhost:8080/"
        },
        "id": "cASVgQMlmHn8",
        "outputId": "5896af1c-375a-4d41-b905-92cf5319549e"
      },
      "source": [
        "#　slicing 切片\n",
        "print(best_NBA[1:4])\n",
        "[\"Chicago Bulls\", \"Phil Jackson\", [72,10]]"
      ],
      "execution_count": 13,
      "outputs": [
        {
          "output_type": "stream",
          "text": [
            "['Chicago Bulls', 'Phil Jackson', [72, 10]]\n"
          ],
          "name": "stdout"
        },
        {
          "output_type": "execute_result",
          "data": {
            "text/plain": [
              "['Chicago Bulls', 'Phil Jackson', [72, 10]]"
            ]
          },
          "metadata": {
            "tags": []
          },
          "execution_count": 13
        }
      ]
    }
  ]
}