{
  "nbformat": 4,
  "nbformat_minor": 0,
  "metadata": {
    "colab": {
      "name": "Untitled8.ipynb",
      "provenance": [],
      "authorship_tag": "ABX9TyOS5RUskKb0H6bXUppQyWtH",
      "include_colab_link": true
    },
    "kernelspec": {
      "name": "python3",
      "display_name": "Python 3"
    }
  },
  "cells": [
    {
      "cell_type": "markdown",
      "metadata": {
        "id": "view-in-github",
        "colab_type": "text"
      },
      "source": [
        "<a href=\"https://colab.research.google.com/github/yang307/Computational-Thinking/blob/master/%E6%A5%8A%E9%87%87%E7%A9%8Eweek12.ipynb\" target=\"_parent\"><img src=\"https://colab.research.google.com/assets/colab-badge.svg\" alt=\"Open In Colab\"/></a>"
      ]
    },
    {
      "cell_type": "markdown",
      "metadata": {
        "id": "_3or5v4FdQyi"
      },
      "source": [
        "購物清單"
      ]
    },
    {
      "cell_type": "code",
      "metadata": {
        "colab": {
          "base_uri": "https://localhost:8080/"
        },
        "id": "rgVBqTDQdXEL",
        "outputId": "e0188046-3f7c-4a0f-a225-449c4e11432b"
      },
      "source": [
        "list5 = [\"牛奶\",\"蛋\",\"咖啡豆\",\"西瓜\",\"鳳梨\"]\n",
        "print(list5)"
      ],
      "execution_count": 5,
      "outputs": [
        {
          "output_type": "stream",
          "text": [
            "['牛奶', '蛋', '咖啡豆', '西瓜', '鳳梨']\n"
          ],
          "name": "stdout"
        }
      ]
    },
    {
      "cell_type": "code",
      "metadata": {
        "colab": {
          "base_uri": "https://localhost:8080/"
        },
        "id": "XnFsAt4eeB3-",
        "outputId": "eb6b80f0-7aae-48d9-a6b0-e7493b81243e"
      },
      "source": [
        "## 索引\n",
        "print(list5[0]) # 取第0個項目"
      ],
      "execution_count": 6,
      "outputs": [
        {
          "output_type": "stream",
          "text": [
            "牛奶\n"
          ],
          "name": "stdout"
        }
      ]
    },
    {
      "cell_type": "code",
      "metadata": {
        "colab": {
          "base_uri": "https://localhost:8080/"
        },
        "id": "H5FeOZZPf31U",
        "outputId": "25170b15-2201-4a78-bd3f-c5ec1647eeef"
      },
      "source": [
        "## 變更\n",
        "list5[1] = \"皮蛋\" # 變更第1個項目\n",
        "print(list5)"
      ],
      "execution_count": 7,
      "outputs": [
        {
          "output_type": "stream",
          "text": [
            "['牛奶', '皮蛋', '咖啡豆', '西瓜', '鳳梨']\n"
          ],
          "name": "stdout"
        }
      ]
    },
    {
      "cell_type": "code",
      "metadata": {
        "colab": {
          "base_uri": "https://localhost:8080/"
        },
        "id": "pA3T7tq6gFvs",
        "outputId": "3bcbc5e1-3a5f-4355-8039-c9873dc2753f"
      },
      "source": [
        "## 切片\n",
        "print(list5[1:3]) # 取1.2兩個項目"
      ],
      "execution_count": 8,
      "outputs": [
        {
          "output_type": "stream",
          "text": [
            "['皮蛋', '咖啡豆']\n"
          ],
          "name": "stdout"
        }
      ]
    },
    {
      "cell_type": "code",
      "metadata": {
        "id": "gGfYcrmrgWN8"
      },
      "source": [
        ""
      ],
      "execution_count": null,
      "outputs": []
    }
  ]
}