{
  "nbformat": 4,
  "nbformat_minor": 0,
  "metadata": {
    "colab": {
      "name": "楊采穎week14.ipynb",
      "provenance": [],
      "authorship_tag": "ABX9TyOdQRF8OORxKBwZnE3Qr1Ez",
      "include_colab_link": true
    },
    "kernelspec": {
      "name": "python3",
      "display_name": "Python 3"
    }
  },
  "cells": [
    {
      "cell_type": "markdown",
      "metadata": {
        "id": "view-in-github",
        "colab_type": "text"
      },
      "source": [
        "<a href=\"https://colab.research.google.com/github/yang307/Computational-Thinking/blob/master/%E6%A5%8A%E9%87%87%E7%A9%8Eweek14.ipynb\" target=\"_parent\"><img src=\"https://colab.research.google.com/assets/colab-badge.svg\" alt=\"Open In Colab\"/></a>"
      ]
    },
    {
      "cell_type": "code",
      "metadata": {
        "colab": {
          "base_uri": "https://localhost:8080/"
        },
        "id": "JZlR1s6cehLS",
        "outputId": "7bdd395b-ac99-4730-c5f7-e240285d1b3e"
      },
      "source": [
        "#1. 資料結構:純量 > 資料容器List\r\n",
        "\r\n",
        "##數字串列:\r\n",
        "list1 = [0,1,2,3,4]\r\n",
        "list1 = range(0,5,1) #range(0,5), range(5)\r\n",
        "##文字串列: list2 = [\"A\",\"B\",\"C\"]\r\n",
        "##索引切片print(list2{0},list2[1],list2[2])\r\n",
        "\r\n",
        "# 2.  for 迴圈 + range()\r\n",
        "\r\n",
        "## 列印\r\n",
        "for i in range(5):\r\n",
        "  print(i)\r\n",
        "# 加總\r\n",
        "sum = 0\r\n",
        "for i in range(5):\r\n",
        "  sum = sum + i\r\n",
        "  print(i, sum)"
      ],
      "execution_count": 1,
      "outputs": [
        {
          "output_type": "stream",
          "text": [
            "0\n",
            "1\n",
            "2\n",
            "3\n",
            "4\n",
            "0 0\n",
            "1 1\n",
            "2 3\n",
            "3 6\n",
            "4 10\n"
          ],
          "name": "stdout"
        }
      ]
    },
    {
      "cell_type": "code",
      "metadata": {
        "colab": {
          "base_uri": "https://localhost:8080/"
        },
        "id": "BSwEgbBOhHoX",
        "outputId": "fd12f752-9bc0-49d8-f326-ecd54234e08e"
      },
      "source": [
        "# 求數字平方和\r\n",
        "## 要用for迴圈逐一加總\r\n",
        "## Input:數數變數,index i是從1到n,要給n值\r\n",
        "## Input:總和是sum, sum從0開始加\r\n",
        "## Process:每次加i^2 = i*i, sum = sum + i*i\r\n",
        "## Output: 列印結果\r\n",
        "\r\n",
        "## Input\r\n",
        "n = 5 # 或 n = int(input(\"請輸入n值?\"))\r\n",
        "sum = 0\r\n",
        "## Process: for 迴圈,每次加i*i\r\n",
        "for i in range(1, n+1):\r\n",
        "  sum = sum + i*i\r\n",
        "## Output: 列印數字平方和\r\n",
        "print(\"Total is\", sum)"
      ],
      "execution_count": 9,
      "outputs": [
        {
          "output_type": "stream",
          "text": [
            "Total is 55\n"
          ],
          "name": "stdout"
        }
      ]
    },
    {
      "cell_type": "code",
      "metadata": {
        "colab": {
          "base_uri": "https://localhost:8080/"
        },
        "id": "rsN8Cq96jkgU",
        "outputId": "2f5aaec8-4fa9-4438-9451-8c737b9f9c83"
      },
      "source": [
        "## 1. 文字串列的應用\r\n",
        "names = [\"Allen\",\"James\",\"Tom\",\"Jack\"]\r\n",
        "## 計數迴圈:把names串列中的東西一個一個直接拿出來\r\n",
        "for i in names: #每次拿出來的東西暫時叫它i\r\n",
        "  print(\"welcome to Class!\", i) #清單東西都拿完就結束"
      ],
      "execution_count": 10,
      "outputs": [
        {
          "output_type": "stream",
          "text": [
            "welcome to Class! Allen\n",
            "welcome to Class! James\n",
            "welcome to Class! Tom\n",
            "welcome to Class! Jack\n"
          ],
          "name": "stdout"
        }
      ]
    },
    {
      "cell_type": "code",
      "metadata": {
        "colab": {
          "base_uri": "https://localhost:8080/"
        },
        "id": "H3eBKcmAlPqi",
        "outputId": "4c230918-6342-4516-a932-a2df14c21bb6"
      },
      "source": [
        "## 2. 文字串列的例子:索引與項目\r\n",
        "### 方法(一):文字串列列印比較\r\n",
        "sheet = [\"牛奶\",\"蛋\",\"咖啡豆\"]\r\n",
        "for index in [0,1,2]: #位置索引[0,1,2] range(2)\r\n",
        "   print(index) #index是索引值,sheet[index]才是項目\r\n",
        "sheet = [\"牛奶\",\"蛋\",\"咖啡豆\"] \r\n",
        "for index in sheet: #購物清單迴圈\r\n",
        "  print(index) #index就是項目\r\n",
        "### 方法(二) : 文字串列列印\r\n",
        "sheet = [\"牛奶\",\"蛋\",\"咖啡豆\"]\r\n",
        "for index in [0,1,2]: #位置索引迴圈range(3)\r\n",
        "  print(index, sheet[index])\r\n",
        "#index是索引值,sheet[index]才是項目\r\n",
        "### Optional(len()函式)\r\n",
        "sheet = [\"牛奶\",\"蛋\",\"咖啡豆\"]\r\n",
        "for index in range(len(sheet)): #位置索引[0,1,2]\r\n",
        "  print(index, sheet[index])\r\n",
        "#index是索引值,sheet[index]才是項目"
      ],
      "execution_count": 16,
      "outputs": [
        {
          "output_type": "stream",
          "text": [
            "0\n",
            "1\n",
            "2\n",
            "牛奶\n",
            "蛋\n",
            "咖啡豆\n",
            "0 牛奶\n",
            "1 蛋\n",
            "2 咖啡豆\n",
            "0 牛奶\n",
            "1 蛋\n",
            "2 咖啡豆\n"
          ],
          "name": "stdout"
        }
      ]
    }
  ]
}