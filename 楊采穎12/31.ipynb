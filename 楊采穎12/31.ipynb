{
  "nbformat": 4,
  "nbformat_minor": 0,
  "metadata": {
    "colab": {
      "name": "Untitled14.ipynb",
      "provenance": [],
      "authorship_tag": "ABX9TyNC3CD3ozYwA6w/v4pRfyDM",
      "include_colab_link": true
    },
    "kernelspec": {
      "name": "python3",
      "display_name": "Python 3"
    }
  },
  "cells": [
    {
      "cell_type": "markdown",
      "metadata": {
        "id": "view-in-github",
        "colab_type": "text"
      },
      "source": [
        "<a href=\"https://colab.research.google.com/github/yang307/Computational-Thinking/blob/master/%E6%A5%8A%E9%87%87%E7%A9%8E12/31.ipynb\" target=\"_parent\"><img src=\"https://colab.research.google.com/assets/colab-badge.svg\" alt=\"Open In Colab\"/></a>"
      ]
    },
    {
      "cell_type": "code",
      "metadata": {
        "colab": {
          "base_uri": "https://localhost:8080/"
        },
        "id": "uUqyyP0wz6ur",
        "outputId": "6661e15f-0f81-4eca-9231-5d3a6fc08491"
      },
      "source": [
        "# 巢狀條件式\r\n",
        "num_a = int(input(\"輸入第一個數字? \"))\r\n",
        "num_b = int(input(\"輸入第二個數字? \"))\r\n",
        "if num_a < 0:\r\n",
        "  print(\"第一個是負數\")\r\n",
        "if num_b < 0:\r\n",
        "  print(\"第二個也是負數\")\r\n",
        "print(\"比較完成\")\r\n",
        "# 非巢狀結構\r\n",
        "num_a = int(input(\"輸入第一個數字? \"))\r\n",
        "num_b = int(input(\"輸入第二個數字? \"))\r\n",
        "if num_a < 0:\r\n",
        "  print(\"第一個是負數\")\r\n",
        "if num_b < 0:\r\n",
        "  print(\"第二個是負數\")\r\n",
        "print(\"比較完成\")"
      ],
      "execution_count": 10,
      "outputs": [
        {
          "output_type": "stream",
          "text": [
            "輸入第一個數字? -1\n",
            "輸入第二個數字? -2\n",
            "第一個是負數\n",
            "第二個也是負數\n",
            "比較完成\n",
            "輸入第一個數字? 2\n",
            "輸入第二個數字? 3\n",
            "比較完成\n"
          ],
          "name": "stdout"
        }
      ]
    },
    {
      "cell_type": "code",
      "metadata": {
        "colab": {
          "base_uri": "https://localhost:8080/"
        },
        "id": "qoy8eeO80ID4",
        "outputId": "007b0b6c-7eb3-4d98-a564-da5464c3b049"
      },
      "source": [
        "a = int(input(\"請輸入三角形邊長a長度為?\"))\r\n",
        "b = int(input(\"請輸入三角形邊長b長度為?\"))\r\n",
        "c = int(input(\"請輸入三角形邊長c長度為?\"))\r\n",
        "\r\n",
        "if(a<b+c)and(b<a+c)and(c<a+b):  #任兩邊相加是否大於第三邊\r\n",
        " print(\"可構成三角形\")\r\n",
        "else:\r\n",
        "  print(\"無法構成三角形\")"
      ],
      "execution_count": 11,
      "outputs": [
        {
          "output_type": "stream",
          "text": [
            "請輸入三角形邊長a長度為?2\n",
            "請輸入三角形邊長b長度為?3\n",
            "請輸入三角形邊長c長度為?7\n",
            "無法構成三角形\n"
          ],
          "name": "stdout"
        }
      ]
    },
    {
      "cell_type": "code",
      "metadata": {
        "id": "h9va2b6Z7ELY"
      },
      "source": [
        ""
      ],
      "execution_count": null,
      "outputs": []
    }
  ]
}