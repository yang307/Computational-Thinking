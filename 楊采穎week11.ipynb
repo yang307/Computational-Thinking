{
  "nbformat": 4,
  "nbformat_minor": 0,
  "metadata": {
    "colab": {
      "name": "Untitled7.ipynb",
      "provenance": [],
      "authorship_tag": "ABX9TyMzhUR/IYcYSxq2lxE9bkUi",
      "include_colab_link": true
    },
    "kernelspec": {
      "name": "python3",
      "display_name": "Python 3"
    }
  },
  "cells": [
    {
      "cell_type": "markdown",
      "metadata": {
        "id": "view-in-github",
        "colab_type": "text"
      },
      "source": [
        "<a href=\"https://colab.research.google.com/github/yang307/Computational-Thinking/blob/master/%E6%A5%8A%E9%87%87%E7%A9%8Eweek11.ipynb\" target=\"_parent\"><img src=\"https://colab.research.google.com/assets/colab-badge.svg\" alt=\"Open In Colab\"/></a>"
      ]
    },
    {
      "cell_type": "markdown",
      "metadata": {
        "id": "8v9u-fbtiFbx"
      },
      "source": [
        "對話機器人"
      ]
    },
    {
      "cell_type": "code",
      "metadata": {
        "colab": {
          "base_uri": "https://localhost:8080/"
        },
        "id": "R1DDGbbMiJxz",
        "outputId": "90f99ff8-a729-4cff-c0e1-34415c878883"
      },
      "source": [
        "print(\"哈囉,大家好。我叫Zyxo64，是一個聊天機器人。\")\n",
        "\n",
        "hobby = \"我很喜歡美食東西，也喜歡養動物。今天很高興有機會來到世新大學\"\n",
        "print( hobby )\n",
        "\n",
        "# 打招呼，取得對方名字\n",
        "name = input(\"嗨!你好，請問大名？: \")\n",
        "print(\"我叫\", name)\n",
        "print(\"你好\", name, \"很高興認識你\")"
      ],
      "execution_count": 1,
      "outputs": [
        {
          "output_type": "stream",
          "text": [
            "哈囉,大家好。我叫Zyxo64，是一個聊天機器人。\n",
            "我很喜歡美食東西，也喜歡養動物。今天很高興有機會來到世新大學\n"
          ],
          "name": "stdout"
        }
      ]
    },
    {
      "cell_type": "code",
      "metadata": {
        "colab": {
          "base_uri": "https://localhost:8080/"
        },
        "id": "nwpgZN_2jyS1",
        "outputId": "248b4339-8ddf-4eec-f266-44b0179ae383"
      },
      "source": [
        "# 從使用者取得今年年份\n",
        "year = input(\"請問一下今年是西元2020年,那是民國幾年呢? \")\n",
        "print(\"對!應該沒錯,謝謝你!\")\n",
        "\n",
        "# 請使用者猜年齡\n",
        "myage = int(input(\"再猜猜看我今年幾歲? \"))\n",
        "print(\"哇!你好聰明,我今年的確\",myage )\n",
        "\n",
        "# 計算聊天機器人滿100歲的年份\n",
        "nyears = 100 - myage\n",
        "print(\"我再\",nyears,\"年就滿100歲了。\")\n",
        "\n",
        "print(\"到時候是西元\",int(year) + nyears +1911, \"年\")"
      ],
      "execution_count": 7,
      "outputs": [
        {
          "output_type": "stream",
          "text": [
            "請問一下今年是西元2020年,那是民國幾年呢? 109\n",
            "對!應該沒錯,謝謝你!\n",
            "再猜猜看我今年幾歲? 25\n",
            "哇!你好聰明,我今年的確 25\n",
            "我再 75 年就滿100歲了。\n",
            "到時候是西元 2095 年\n"
          ],
          "name": "stdout"
        }
      ]
    },
    {
      "cell_type": "code",
      "metadata": {
        "colab": {
          "base_uri": "https://localhost:8080/"
        },
        "id": "XxWOkqc1n4lJ",
        "outputId": "acfcf27b-ac73-42bf-fe7b-1688fb6dfe3a"
      },
      "source": [
        "# 食物話題\n",
        "print(\"我喜歡巧克力,也喜歡嘗試各種新食物。\")\n",
        "food = input(\"你呢。你最喜歡的食物是甚麼?: \")\n",
        "print(\"我也喜歡\",food)\n",
        "question = \"你多久吃一次\" + food + \"?: \"\n",
        "howoften = input(question)\n",
        "print(\"真有趣。不知道這樣對健康好不好!\")"
      ],
      "execution_count": 8,
      "outputs": [
        {
          "output_type": "stream",
          "text": [
            "我喜歡巧克力,也喜歡嘗試各種新食物。\n",
            "你呢。你最喜歡的食物是甚麼?: 榴槤\n",
            "我也喜歡 榴槤\n",
            "你多久吃一次榴槤?: 一年吃一次\n",
            "真有趣。不知道這樣對健康好不好!\n"
          ],
          "name": "stdout"
        }
      ]
    },
    {
      "cell_type": "code",
      "metadata": {
        "id": "NnXE6nCOpXOF"
      },
      "source": [
        ""
      ],
      "execution_count": null,
      "outputs": []
    }
  ]
}