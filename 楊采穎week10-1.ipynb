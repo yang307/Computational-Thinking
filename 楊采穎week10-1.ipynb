{
  "nbformat": 4,
  "nbformat_minor": 0,
  "metadata": {
    "colab": {
      "name": "Untitled6.ipynb",
      "provenance": [],
      "authorship_tag": "ABX9TyO4HJ39CtRkHcTnVhiLavNd",
      "include_colab_link": true
    },
    "kernelspec": {
      "name": "python3",
      "display_name": "Python 3"
    }
  },
  "cells": [
    {
      "cell_type": "markdown",
      "metadata": {
        "id": "view-in-github",
        "colab_type": "text"
      },
      "source": [
        "<a href=\"https://colab.research.google.com/github/yang307/Computational-Thinking/blob/master/%E6%A5%8A%E9%87%87%E7%A9%8Eweek10-1.ipynb\" target=\"_parent\"><img src=\"https://colab.research.google.com/assets/colab-badge.svg\" alt=\"Open In Colab\"/></a>"
      ]
    },
    {
      "cell_type": "code",
      "metadata": {
        "colab": {
          "base_uri": "https://localhost:8080/"
        },
        "id": "OCainPhZg529",
        "outputId": "b7f5bb42-a134-4a0f-d884-c783c0fb4a7b"
      },
      "source": [
        "# Input Data\n",
        "time = 123\n",
        "# Process\n",
        "hour = time // 60 # 商數\n",
        "minute = time % 60 # 餘數\n",
        "# Output\n",
        "print(time,\"是\", hour,\"小時\", minute, \"分鐘\")\n",
        "## Process\n",
        "hour1 = int (time/60) # 除法與整數\n",
        "minute1 = ((time/60)- hour1)*60\n",
        "import math\n",
        "minute1 = round(minute1)\n",
        "print(time,\"是\", hour1,\"小時\", minute1, \"分鐘\")"
      ],
      "execution_count": 26,
      "outputs": [
        {
          "output_type": "stream",
          "text": [
            "123 是 2 小時 3 分鐘\n",
            "123 是 2 小時 3 分鐘\n"
          ],
          "name": "stdout"
        }
      ]
    }
  ]
}