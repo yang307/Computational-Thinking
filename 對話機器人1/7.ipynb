{
  "nbformat": 4,
  "nbformat_minor": 0,
  "metadata": {
    "colab": {
      "name": "「對話機器人」的副本",
      "provenance": [],
      "collapsed_sections": [],
      "toc_visible": true,
      "include_colab_link": true
    },
    "kernelspec": {
      "display_name": "Python 3",
      "name": "python3"
    }
  },
  "cells": [
    {
      "cell_type": "markdown",
      "metadata": {
        "id": "view-in-github",
        "colab_type": "text"
      },
      "source": [
        "<a href=\"https://colab.research.google.com/github/yang307/Computational-Thinking/blob/master/%E5%B0%8D%E8%A9%B1%E6%A9%9F%E5%99%A8%E4%BA%BA1/7.ipynb\" target=\"_parent\"><img src=\"https://colab.research.google.com/assets/colab-badge.svg\" alt=\"Open In Colab\"/></a>"
      ]
    },
    {
      "cell_type": "code",
      "metadata": {
        "id": "lYL8K7IKToLG",
        "colab": {
          "base_uri": "https://localhost:8080/"
        },
        "outputId": "9180413e-07a0-4b25-b9bd-e623d2169b63"
      },
      "source": [
        "#賣作物\n",
        "print(\"歡迎光臨農場，請問您要買什麼作物？\")\n",
        "print(\"我們有 蓮霧、芒果、柿子、草莓．\")\n",
        "month = input(\"輸入月份: \")\n",
        "if month == \"12\" or month == \"1\" or month == \"2\":\n",
        "  season = \"winter\"\n",
        "  print(\"現在季節是冬天,我們有賣草莓!\")\n",
        "elif month == \"3\" or month == \"4\" or month == \"5\":\n",
        "   season = \"spring\"\n",
        "   print(\"現在季節是春天,我們有賣蓮霧!\")\n",
        "elif month == \"6\" or month == \"7\" or month == \"8\":\n",
        "   season = \"summer\"\n",
        "   print(\"現在季節是夏天,我們有賣芒果!\")\n",
        "else:\n",
        "  season = \"autumn\"\n",
        "  print(\"現在季節是秋天,我們有賣柿子!\")\n",
        "quantity = input(\"請問數量要多少斤？\")\n",
        "print(\"好的,為您準備\"+quantity+ \"斤\" + \".\")\n",
        "print(\"謝謝光臨,歡迎下次光臨．\")"
      ],
      "execution_count": 26,
      "outputs": [
        {
          "output_type": "stream",
          "text": [
            "歡迎光臨農場，請問您要買什麼作物？\n",
            "我們有 蓮霧、芒果、柿子、草莓．\n",
            "輸入月份: 3\n",
            "現在季節是春天,我們有賣蓮霧!\n",
            "請問數量要多少斤？2\n",
            "好的,為您準備2斤.\n",
            "謝謝光臨,歡迎下次光臨．\n"
          ],
          "name": "stdout"
        }
      ]
    },
    {
      "cell_type": "code",
      "metadata": {
        "colab": {
          "base_uri": "https://localhost:8080/"
        },
        "id": "aJcQb_yo1D6z",
        "outputId": "87b6621e-7b99-4e0a-a351-c311cf009690"
      },
      "source": [
        "month = input(\"輸入月份; \")\r\n",
        "if month == \"12\" or month == \"1\" or month == \"2\":\r\n",
        "  season = \"winter\"\r\n",
        "  print(\"現在季節是冬天,我們有賣草莓!\")\r\n",
        "elif month == \"3\" or month == \"4\" or month == \"5\":\r\n",
        "   season = \"spring\"\r\n",
        "   print(\"現在季節是春天,我們有賣蓮霧!\")\r\n",
        "elif month == \"6\" or month == \"7\" or month == \"8\":\r\n",
        "   season = \"summer\"\r\n",
        "   print(\"現在季節是夏天,我們有賣芒果!\")\r\n",
        "else:\r\n",
        "  season = \"autumn\"\r\n",
        "  print(\"現在季節是秋天,我們有賣柿子!\")"
      ],
      "execution_count": 22,
      "outputs": [
        {
          "output_type": "stream",
          "text": [
            "輸入月份; 5\n",
            "現在季節是春天,我們有賣蓮霧!\n"
          ],
          "name": "stdout"
        }
      ]
    },
    {
      "cell_type": "code",
      "metadata": {
        "id": "G0WNhutd5HDz"
      },
      "source": [
        "fruit = input(\"請問您要哪一種:\")\r\n",
        "print(\"好的，為您準備\" +fruit+\".\" )\r\n",
        "quantity=input(\"請問\"+ fruit +\"數量要多少斤？\")\r\n",
        "print(\"好的,為您準備\"+quantity+ \"斤\" +fruit+\".\")\r\n",
        "print(\"謝謝光臨,歡迎下次光臨．\")"
      ],
      "execution_count": null,
      "outputs": []
    }
  ]
}