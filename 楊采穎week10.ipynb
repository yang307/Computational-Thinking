{
  "nbformat": 4,
  "nbformat_minor": 0,
  "metadata": {
    "colab": {
      "name": "楊采穎week10.ipynb",
      "provenance": [],
      "authorship_tag": "ABX9TyNQE7PGIlD4Mn24pUCqCXcG",
      "include_colab_link": true
    },
    "kernelspec": {
      "name": "python3",
      "display_name": "Python 3"
    }
  },
  "cells": [
    {
      "cell_type": "markdown",
      "metadata": {
        "id": "view-in-github",
        "colab_type": "text"
      },
      "source": [
        "<a href=\"https://colab.research.google.com/github/yang307/Computational-Thinking/blob/master/%E6%A5%8A%E9%87%87%E7%A9%8Eweek10.ipynb\" target=\"_parent\"><img src=\"https://colab.research.google.com/assets/colab-badge.svg\" alt=\"Open In Colab\"/></a>"
      ]
    },
    {
      "cell_type": "code",
      "metadata": {
        "id": "bn__tZ1Ca4PJ"
      },
      "source": [
        "## 網址：https://www.imdb.com/title/tt1210166/\n",
        "movie_title = \"money ball\" # 電影名稱\n",
        "movie_time_min = 133 # 片長\n",
        "movie_rating = 7.6 # 評分\n",
        "director = \"Bennett miller\" # 導演\n",
        "stars_1 = \"Brad pitt\" # 主要演員\n",
        "stars_2 = \"Robin wright\"\n",
        "stars_3 = \"Jonah hill\"\n",
        "print(movie_title) # 螢幕列印\n",
        "print(release_date)\n",
        "print(movie_time_min)"
      ],
      "execution_count": null,
      "outputs": []
    }
  ]
}