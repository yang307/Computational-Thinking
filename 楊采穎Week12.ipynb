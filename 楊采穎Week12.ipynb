{
  "nbformat": 4,
  "nbformat_minor": 0,
  "metadata": {
    "colab": {
      "name": "Untitled10.ipynb",
      "provenance": [],
      "authorship_tag": "ABX9TyN70kedKLPkJ5SeYsl/bIZv",
      "include_colab_link": true
    },
    "kernelspec": {
      "name": "python3",
      "display_name": "Python 3"
    }
  },
  "cells": [
    {
      "cell_type": "markdown",
      "metadata": {
        "id": "view-in-github",
        "colab_type": "text"
      },
      "source": [
        "<a href=\"https://colab.research.google.com/github/yang307/Computational-Thinking/blob/master/%E6%A5%8A%E9%87%87%E7%A9%8EWeek12.ipynb\" target=\"_parent\"><img src=\"https://colab.research.google.com/assets/colab-badge.svg\" alt=\"Open In Colab\"/></a>"
      ]
    },
    {
      "cell_type": "code",
      "metadata": {
        "colab": {
          "base_uri": "https://localhost:8080/"
        },
        "id": "hxjEBkbgnXev",
        "outputId": "3bedfb6d-d75e-43a8-8ec2-922aa76631b3"
      },
      "source": [
        "# [0,1,2,3,4]\n",
        ">>> a = range(5) # range(0,5,1)\n",
        ">>> print(a)\n",
        "range(0, 5)\n",
        ">>> print(a[0], a[1], a[2], a[3], a[4])\n",
        "# [2,3,4,5]\n",
        ">>> b = range(2, 6) #range(2,6,1)\n",
        ">>> print(b[0], b[1], b[2], b[3])\n",
        "# [2,5,8]\n",
        ">>> c = range(2, 10, 3)\n",
        ">>> print(c[0], c[1], c[2])\n",
        "# [10,8,6,4]\n",
        ">>> d = range(10, 3, -2)\n",
        ">>> print(d[0], d[1], d[2], d[3])"
      ],
      "execution_count": 1,
      "outputs": [
        {
          "output_type": "stream",
          "text": [
            "range(0, 5)\n",
            "0 1 2 3 4\n",
            "2 3 4 5\n",
            "2 5 8\n",
            "10 8 6 4\n"
          ],
          "name": "stdout"
        }
      ]
    },
    {
      "cell_type": "code",
      "metadata": {
        "id": "pAx2ofOuqbDg"
      },
      "source": [
        ""
      ],
      "execution_count": null,
      "outputs": []
    }
  ]
}