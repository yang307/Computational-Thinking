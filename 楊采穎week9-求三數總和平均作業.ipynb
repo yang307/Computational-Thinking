{
  "nbformat": 4,
  "nbformat_minor": 0,
  "metadata": {
    "colab": {
      "name": "Untitled5.ipynb",
      "provenance": [],
      "authorship_tag": "ABX9TyM0XTDVpqXHv2t9WuTNEn1e",
      "include_colab_link": true
    },
    "kernelspec": {
      "name": "python3",
      "display_name": "Python 3"
    }
  },
  "cells": [
    {
      "cell_type": "markdown",
      "metadata": {
        "id": "view-in-github",
        "colab_type": "text"
      },
      "source": [
        "<a href=\"https://colab.research.google.com/github/yang307/Computational-Thinking/blob/master/%E6%A5%8A%E9%87%87%E7%A9%8Eweek9-%E6%B1%82%E4%B8%89%E6%95%B8%E7%B8%BD%E5%92%8C%E5%B9%B3%E5%9D%87%E4%BD%9C%E6%A5%AD.ipynb\" target=\"_parent\"><img src=\"https://colab.research.google.com/assets/colab-badge.svg\" alt=\"Open In Colab\"/></a>"
      ]
    },
    {
      "cell_type": "code",
      "metadata": {
        "id": "12OfiWN0h-kO",
        "outputId": "ba7fb58a-2923-42c5-d775-5ffaddeecb88",
        "colab": {
          "base_uri": "https://localhost:8080/"
        }
      },
      "source": [
        "first = int(input(\"請輸入第一次期中考成績? \"))"
      ],
      "execution_count": 7,
      "outputs": [
        {
          "output_type": "stream",
          "text": [
            "請輸入第一次期中考成績? 75\n"
          ],
          "name": "stdout"
        }
      ]
    },
    {
      "cell_type": "code",
      "metadata": {
        "id": "KhllPfJZiMFq",
        "outputId": "9207d933-cddd-404e-8cac-722db8acf44a",
        "colab": {
          "base_uri": "https://localhost:8080/"
        }
      },
      "source": [
        "second = int(input(\"請輸入第二次期中考成績? \"))"
      ],
      "execution_count": 8,
      "outputs": [
        {
          "output_type": "stream",
          "text": [
            "請輸入第二次期中考成績? 80\n"
          ],
          "name": "stdout"
        }
      ]
    },
    {
      "cell_type": "code",
      "metadata": {
        "id": "BVEiWWTFiU84",
        "outputId": "a51a6bb9-0ed2-483f-bff0-72d07cce44c4",
        "colab": {
          "base_uri": "https://localhost:8080/"
        }
      },
      "source": [
        "final = int(input(\"請輸入期末考成績? \"))"
      ],
      "execution_count": 9,
      "outputs": [
        {
          "output_type": "stream",
          "text": [
            "請輸入期末考成績? 65\n"
          ],
          "name": "stdout"
        }
      ]
    },
    {
      "cell_type": "code",
      "metadata": {
        "id": "50DpaMfqifIg"
      },
      "source": [
        "total = first + second + final"
      ],
      "execution_count": 10,
      "outputs": []
    },
    {
      "cell_type": "code",
      "metadata": {
        "id": "hG1Sw5PwinjY"
      },
      "source": [
        "average = total / 3"
      ],
      "execution_count": 11,
      "outputs": []
    },
    {
      "cell_type": "code",
      "metadata": {
        "id": "6agJQaCEir7g",
        "outputId": "e3c73318-9960-4e32-e072-56c49a027ea7",
        "colab": {
          "base_uri": "https://localhost:8080/"
        }
      },
      "source": [
        "print(\"總分為\", total, \"平均為\", average)"
      ],
      "execution_count": 12,
      "outputs": [
        {
          "output_type": "stream",
          "text": [
            "總分為 220 平均為 73.33333333333333\n"
          ],
          "name": "stdout"
        }
      ]
    }
  ]
}