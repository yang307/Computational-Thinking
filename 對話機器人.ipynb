{
  "nbformat": 4,
  "nbformat_minor": 0,
  "metadata": {
    "colab": {
      "name": "「對話機器人」的副本",
      "provenance": [],
      "collapsed_sections": [],
      "toc_visible": true,
      "include_colab_link": true
    },
    "kernelspec": {
      "display_name": "Python 3",
      "name": "python3"
    }
  },
  "cells": [
    {
      "cell_type": "markdown",
      "metadata": {
        "id": "view-in-github",
        "colab_type": "text"
      },
      "source": [
        "<a href=\"https://colab.research.google.com/github/yang307/Computational-Thinking/blob/master/%E5%B0%8D%E8%A9%B1%E6%A9%9F%E5%99%A8%E4%BA%BA.ipynb\" target=\"_parent\"><img src=\"https://colab.research.google.com/assets/colab-badge.svg\" alt=\"Open In Colab\"/></a>"
      ]
    },
    {
      "cell_type": "code",
      "metadata": {
        "id": "lYL8K7IKToLG",
        "colab": {
          "base_uri": "https://localhost:8080/"
        },
        "outputId": "d49eaf90-718c-4582-fe4b-cd43219adfef"
      },
      "source": [
        "#賣作物\n",
        "print(\"歡迎光臨農場，請問您要買什麼作物？\")\n",
        "print(\"我們有 蓮霧、芒果、柿子、草莓．\")\n",
        "fruit = input(\"請問您要哪一種:\")\n",
        "print(\"好的，為您準備\" +fruit+\".\" )\n",
        "quantity=input(\"請問\"+ fruit +\"數量要多少斤？\")\n",
        "print(\"好的,為您準備\"+quantity+ \"斤\" +fruit+\".\")\n",
        "print(\"謝謝光臨,歡迎下次光臨．\")\n",
        "# 季節．蓮霧．芒果．柿子．草莓\n",
        "month = input(\"輸入現在月份:\")\n",
        "if month == \"三月\" or month == \"四月\":\n",
        "   季節 = \"春天\"\n",
        "   蓮霧 = True\n",
        "   芒果 = False\n",
        "   柿子 = False\n",
        "   草莓 = False\n",
        "elif month == \"六月\" or month == \"七月\":\n",
        "     季節 = \"夏天\"\n",
        "     蓮霧 = False\n",
        "     芒果 = True\n",
        "     柿子 = False\n",
        "     草莓 = False\n",
        "elif month == \"九月\" or month == \"十月\":\n",
        "     季節 = \"秋天\"\n",
        "     蓮霧 = False\n",
        "     芒果 = False\n",
        "     柿子 = True\n",
        "     草莓 = False\n",
        "elif month == \"十二月\" or month == \"一月\":\n",
        "     季節 = \"冬天\"\n",
        "     蓮霧 = False\n",
        "     芒果 = False\n",
        "     柿子 = False\n",
        "     草莓 = True\n",
        "else :\n",
        "     季節 = \"無賣作物\"\n",
        "     蓮霧 = False\n",
        "     芒果 = False\n",
        "     柿子 = False\n",
        "     草莓 = False\n",
        "print(季節, 蓮霧, 芒果, 柿子, 草莓)\n",
        "\n"
      ],
      "execution_count": null,
      "outputs": [
        {
          "output_type": "stream",
          "text": [
            "歡迎光臨農場，請問您要買什麼作物？\n",
            "我們有 蓮霧、芒果、柿子、草莓．\n"
          ],
          "name": "stdout"
        }
      ]
    },
    {
      "cell_type": "code",
      "metadata": {
        "id": "ywpIyKOGLxUW"
      },
      "source": [
        ""
      ],
      "execution_count": null,
      "outputs": []
    }
  ]
}