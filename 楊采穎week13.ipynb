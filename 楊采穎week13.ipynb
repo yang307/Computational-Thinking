{
  "nbformat": 4,
  "nbformat_minor": 0,
  "metadata": {
    "colab": {
      "name": "Untitled12.ipynb",
      "provenance": [],
      "authorship_tag": "ABX9TyO0STvWSygtqPXfgOUzi/Tt",
      "include_colab_link": true
    },
    "kernelspec": {
      "name": "python3",
      "display_name": "Python 3"
    }
  },
  "cells": [
    {
      "cell_type": "markdown",
      "metadata": {
        "id": "view-in-github",
        "colab_type": "text"
      },
      "source": [
        "<a href=\"https://colab.research.google.com/github/yang307/Computational-Thinking/blob/master/%E6%A5%8A%E9%87%87%E7%A9%8Eweek13.ipynb\" target=\"_parent\"><img src=\"https://colab.research.google.com/assets/colab-badge.svg\" alt=\"Open In Colab\"/></a>"
      ]
    },
    {
      "cell_type": "code",
      "metadata": {
        "colab": {
          "base_uri": "https://localhost:8080/"
        },
        "id": "-2bztAxjmfBa",
        "outputId": "40438e12-0ef4-4bd0-dd50-a4595d2f886a"
      },
      "source": [
        "# 印出5個Hello\r\n",
        "for i in range(0,5,1):\r\n",
        " print(\"Hello\")\r\n",
        "# [0,1,2,3,4,5]\r\n",
        "for i in range(0,5,1):\r\n",
        " print(i)\r\n",
        "#[2,3,4,5]\r\n",
        "for i in range(2,6,1):\r\n",
        " print(i)\r\n",
        "#[2,4,6,8]\r\n",
        "for i in range(2,10,2):\r\n",
        " print(i)\r\n",
        "#[100,97,94,91]\r\n",
        "for i in range(100, 90, -3):\r\n",
        "   print(i)"
      ],
      "execution_count": 13,
      "outputs": [
        {
          "output_type": "stream",
          "text": [
            "Hello\n",
            "Hello\n",
            "Hello\n",
            "Hello\n",
            "Hello\n",
            "0\n",
            "1\n",
            "2\n",
            "3\n",
            "4\n",
            "2\n",
            "3\n",
            "4\n",
            "5\n",
            "2\n",
            "4\n",
            "6\n",
            "8\n",
            "100\n",
            "97\n",
            "94\n",
            "91\n"
          ],
          "name": "stdout"
        }
      ]
    },
    {
      "cell_type": "code",
      "metadata": {
        "colab": {
          "base_uri": "https://localhost:8080/"
        },
        "id": "KfPhSKFunpe0",
        "outputId": "3e6de7c8-686e-43b2-9ab0-acb03209de64"
      },
      "source": [
        "# 數字1到10之和。\r\n",
        "## 1+2+3+4+5+6+7+8+9+10=?\r\n",
        "sum = 0 # 起始條件\r\n",
        "for i in range(1, 11, 1): #數字串列[1,2,3,4,5,6,7,8,9,10]\r\n",
        " sum = sum + i # 加總運算,變更條件\r\n",
        " print(\"Total is\", sum)"
      ],
      "execution_count": 17,
      "outputs": [
        {
          "output_type": "stream",
          "text": [
            "Total is 1\n",
            "Total is 3\n",
            "Total is 6\n",
            "Total is 10\n",
            "Total is 15\n",
            "Total is 21\n",
            "Total is 28\n",
            "Total is 36\n",
            "Total is 45\n",
            "Total is 55\n"
          ],
          "name": "stdout"
        }
      ]
    },
    {
      "cell_type": "code",
      "metadata": {
        "id": "PFzJiON3s7E-"
      },
      "source": [
        "# 2. 數字1到10奇數之和。\r\n",
        "## 1+3+5+7+9 = ?\r\n",
        "sum = 0 # 起始值\r\n",
        "for i in range(1, 11, 2): # 數字串列[1,3,5,7,9]\r\n",
        " sum = sum + i # 加總運算,變更條件 print(\"Total is\", sum)"
      ],
      "execution_count": 25,
      "outputs": []
    },
    {
      "cell_type": "code",
      "metadata": {
        "colab": {
          "base_uri": "https://localhost:8080/"
        },
        "id": "upLWIw22vvc2",
        "outputId": "e7763790-7717-428d-805b-377f0fcae6ad"
      },
      "source": [
        "# 給數字串列,將數字串列中的元素加總。\r\n",
        "## 數字串列的初值、終值、遞增值\r\n",
        "start = int(input(\"請輸入加總開始值?\"))\r\n",
        "end = int(input(\"請輸入加總終止值?\"))\r\n",
        "step = int(input(\"請輸入遞增減值?\"))\r\n",
        "## 用for迴圈做加總 + range()\r\n",
        "sum = 0 #初始條件\r\n",
        "for i in range(start, end, step): #判斷條件\r\n",
        " sum = sum + i #更新條件\r\n",
        " print(\"i為\", i, \"時,累加結果為\", sum)"
      ],
      "execution_count": 32,
      "outputs": [
        {
          "output_type": "stream",
          "text": [
            "請輸入加總開始值?25\n",
            "請輸入加總終止值?50\n",
            "請輸入遞增減值?13\n",
            "i為 25 時,累加結果為 25\n",
            "i為 38 時,累加結果為 63\n"
          ],
          "name": "stdout"
        }
      ]
    },
    {
      "cell_type": "code",
      "metadata": {
        "id": "5M1rVdzGwLS4"
      },
      "source": [
        ""
      ],
      "execution_count": null,
      "outputs": []
    }
  ]
}